{
 "cells": [
  {
   "cell_type": "code",
   "execution_count": 1,
   "id": "11bf75b1",
   "metadata": {
    "execution": {
     "iopub.execute_input": "2022-05-02T12:53:12.967207Z",
     "iopub.status.busy": "2022-05-02T12:53:12.966893Z",
     "iopub.status.idle": "2022-05-02T12:53:14.056128Z",
     "shell.execute_reply": "2022-05-02T12:53:14.055344Z"
    },
    "papermill": {
     "duration": 1.167146,
     "end_time": "2022-05-02T12:53:14.058692",
     "exception": false,
     "start_time": "2022-05-02T12:53:12.891546",
     "status": "completed"
    },
    "tags": []
   },
   "outputs": [],
   "source": [
    "import pandas as pd\n",
    "import seaborn as sns\n",
    "import matplotlib.pyplot as plt\n",
    "from matplotlib import pyplot as plt"
   ]
  },
  {
   "cell_type": "code",
   "execution_count": 2,
   "id": "da48f273",
   "metadata": {
    "execution": {
     "iopub.execute_input": "2022-05-02T12:53:14.197544Z",
     "iopub.status.busy": "2022-05-02T12:53:14.197272Z",
     "iopub.status.idle": "2022-05-02T12:53:14.297763Z",
     "shell.execute_reply": "2022-05-02T12:53:14.296970Z"
    },
    "papermill": {
     "duration": 0.173824,
     "end_time": "2022-05-02T12:53:14.300383",
     "exception": false,
     "start_time": "2022-05-02T12:53:14.126559",
     "status": "completed"
    },
    "tags": []
   },
   "outputs": [
    {
     "data": {
      "text/html": [
       "<div>\n",
       "<style scoped>\n",
       "    .dataframe tbody tr th:only-of-type {\n",
       "        vertical-align: middle;\n",
       "    }\n",
       "\n",
       "    .dataframe tbody tr th {\n",
       "        vertical-align: top;\n",
       "    }\n",
       "\n",
       "    .dataframe thead th {\n",
       "        text-align: right;\n",
       "    }\n",
       "</style>\n",
       "<table border=\"1\" class=\"dataframe\">\n",
       "  <thead>\n",
       "    <tr style=\"text-align: right;\">\n",
       "      <th></th>\n",
       "      <th>Row ID</th>\n",
       "      <th>Order ID</th>\n",
       "      <th>Order Date</th>\n",
       "      <th>Ship Date</th>\n",
       "      <th>Ship Mode</th>\n",
       "      <th>Customer ID</th>\n",
       "      <th>Customer Name</th>\n",
       "      <th>Segment</th>\n",
       "      <th>Country</th>\n",
       "      <th>City</th>\n",
       "      <th>State</th>\n",
       "      <th>Postal Code</th>\n",
       "      <th>Region</th>\n",
       "      <th>Product ID</th>\n",
       "      <th>Category</th>\n",
       "      <th>Sub-Category</th>\n",
       "      <th>Product Name</th>\n",
       "      <th>Sales</th>\n",
       "    </tr>\n",
       "  </thead>\n",
       "  <tbody>\n",
       "    <tr>\n",
       "      <th>0</th>\n",
       "      <td>1</td>\n",
       "      <td>CA-2017-152156</td>\n",
       "      <td>08/11/2017</td>\n",
       "      <td>11/11/2017</td>\n",
       "      <td>Second Class</td>\n",
       "      <td>CG-12520</td>\n",
       "      <td>Claire Gute</td>\n",
       "      <td>Consumer</td>\n",
       "      <td>United States</td>\n",
       "      <td>Henderson</td>\n",
       "      <td>Kentucky</td>\n",
       "      <td>42420.0</td>\n",
       "      <td>South</td>\n",
       "      <td>FUR-BO-10001798</td>\n",
       "      <td>Furniture</td>\n",
       "      <td>Bookcases</td>\n",
       "      <td>Bush Somerset Collection Bookcase</td>\n",
       "      <td>261.9600</td>\n",
       "    </tr>\n",
       "    <tr>\n",
       "      <th>1</th>\n",
       "      <td>2</td>\n",
       "      <td>CA-2017-152156</td>\n",
       "      <td>08/11/2017</td>\n",
       "      <td>11/11/2017</td>\n",
       "      <td>Second Class</td>\n",
       "      <td>CG-12520</td>\n",
       "      <td>Claire Gute</td>\n",
       "      <td>Consumer</td>\n",
       "      <td>United States</td>\n",
       "      <td>Henderson</td>\n",
       "      <td>Kentucky</td>\n",
       "      <td>42420.0</td>\n",
       "      <td>South</td>\n",
       "      <td>FUR-CH-10000454</td>\n",
       "      <td>Furniture</td>\n",
       "      <td>Chairs</td>\n",
       "      <td>Hon Deluxe Fabric Upholstered Stacking Chairs,...</td>\n",
       "      <td>731.9400</td>\n",
       "    </tr>\n",
       "    <tr>\n",
       "      <th>2</th>\n",
       "      <td>3</td>\n",
       "      <td>CA-2017-138688</td>\n",
       "      <td>12/06/2017</td>\n",
       "      <td>16/06/2017</td>\n",
       "      <td>Second Class</td>\n",
       "      <td>DV-13045</td>\n",
       "      <td>Darrin Van Huff</td>\n",
       "      <td>Corporate</td>\n",
       "      <td>United States</td>\n",
       "      <td>Los Angeles</td>\n",
       "      <td>California</td>\n",
       "      <td>90036.0</td>\n",
       "      <td>West</td>\n",
       "      <td>OFF-LA-10000240</td>\n",
       "      <td>Office Supplies</td>\n",
       "      <td>Labels</td>\n",
       "      <td>Self-Adhesive Address Labels for Typewriters b...</td>\n",
       "      <td>14.6200</td>\n",
       "    </tr>\n",
       "    <tr>\n",
       "      <th>3</th>\n",
       "      <td>4</td>\n",
       "      <td>US-2016-108966</td>\n",
       "      <td>11/10/2016</td>\n",
       "      <td>18/10/2016</td>\n",
       "      <td>Standard Class</td>\n",
       "      <td>SO-20335</td>\n",
       "      <td>Sean O'Donnell</td>\n",
       "      <td>Consumer</td>\n",
       "      <td>United States</td>\n",
       "      <td>Fort Lauderdale</td>\n",
       "      <td>Florida</td>\n",
       "      <td>33311.0</td>\n",
       "      <td>South</td>\n",
       "      <td>FUR-TA-10000577</td>\n",
       "      <td>Furniture</td>\n",
       "      <td>Tables</td>\n",
       "      <td>Bretford CR4500 Series Slim Rectangular Table</td>\n",
       "      <td>957.5775</td>\n",
       "    </tr>\n",
       "    <tr>\n",
       "      <th>4</th>\n",
       "      <td>5</td>\n",
       "      <td>US-2016-108966</td>\n",
       "      <td>11/10/2016</td>\n",
       "      <td>18/10/2016</td>\n",
       "      <td>Standard Class</td>\n",
       "      <td>SO-20335</td>\n",
       "      <td>Sean O'Donnell</td>\n",
       "      <td>Consumer</td>\n",
       "      <td>United States</td>\n",
       "      <td>Fort Lauderdale</td>\n",
       "      <td>Florida</td>\n",
       "      <td>33311.0</td>\n",
       "      <td>South</td>\n",
       "      <td>OFF-ST-10000760</td>\n",
       "      <td>Office Supplies</td>\n",
       "      <td>Storage</td>\n",
       "      <td>Eldon Fold 'N Roll Cart System</td>\n",
       "      <td>22.3680</td>\n",
       "    </tr>\n",
       "  </tbody>\n",
       "</table>\n",
       "</div>"
      ],
      "text/plain": [
       "   Row ID        Order ID  Order Date   Ship Date       Ship Mode Customer ID  \\\n",
       "0       1  CA-2017-152156  08/11/2017  11/11/2017    Second Class    CG-12520   \n",
       "1       2  CA-2017-152156  08/11/2017  11/11/2017    Second Class    CG-12520   \n",
       "2       3  CA-2017-138688  12/06/2017  16/06/2017    Second Class    DV-13045   \n",
       "3       4  US-2016-108966  11/10/2016  18/10/2016  Standard Class    SO-20335   \n",
       "4       5  US-2016-108966  11/10/2016  18/10/2016  Standard Class    SO-20335   \n",
       "\n",
       "     Customer Name    Segment        Country             City       State  \\\n",
       "0      Claire Gute   Consumer  United States        Henderson    Kentucky   \n",
       "1      Claire Gute   Consumer  United States        Henderson    Kentucky   \n",
       "2  Darrin Van Huff  Corporate  United States      Los Angeles  California   \n",
       "3   Sean O'Donnell   Consumer  United States  Fort Lauderdale     Florida   \n",
       "4   Sean O'Donnell   Consumer  United States  Fort Lauderdale     Florida   \n",
       "\n",
       "   Postal Code Region       Product ID         Category Sub-Category  \\\n",
       "0      42420.0  South  FUR-BO-10001798        Furniture    Bookcases   \n",
       "1      42420.0  South  FUR-CH-10000454        Furniture       Chairs   \n",
       "2      90036.0   West  OFF-LA-10000240  Office Supplies       Labels   \n",
       "3      33311.0  South  FUR-TA-10000577        Furniture       Tables   \n",
       "4      33311.0  South  OFF-ST-10000760  Office Supplies      Storage   \n",
       "\n",
       "                                        Product Name     Sales  \n",
       "0                  Bush Somerset Collection Bookcase  261.9600  \n",
       "1  Hon Deluxe Fabric Upholstered Stacking Chairs,...  731.9400  \n",
       "2  Self-Adhesive Address Labels for Typewriters b...   14.6200  \n",
       "3      Bretford CR4500 Series Slim Rectangular Table  957.5775  \n",
       "4                     Eldon Fold 'N Roll Cart System   22.3680  "
      ]
     },
     "execution_count": 2,
     "metadata": {},
     "output_type": "execute_result"
    }
   ],
   "source": [
    "data=pd.read_csv(\"../input/sales-forecasting/train.csv\")\n",
    "data.head()"
   ]
  },
  {
   "cell_type": "markdown",
   "id": "7cc3c930",
   "metadata": {
    "papermill": {
     "duration": 0.068773,
     "end_time": "2022-05-02T12:53:14.441604",
     "exception": false,
     "start_time": "2022-05-02T12:53:14.372831",
     "status": "completed"
    },
    "tags": []
   },
   "source": [
    "### İlk öncə sətr və sütun sayı ilə tanış oluruq"
   ]
  },
  {
   "cell_type": "code",
   "execution_count": 3,
   "id": "96ac4ac8",
   "metadata": {
    "execution": {
     "iopub.execute_input": "2022-05-02T12:53:14.581659Z",
     "iopub.status.busy": "2022-05-02T12:53:14.581286Z",
     "iopub.status.idle": "2022-05-02T12:53:14.586319Z",
     "shell.execute_reply": "2022-05-02T12:53:14.585579Z"
    },
    "papermill": {
     "duration": 0.077336,
     "end_time": "2022-05-02T12:53:14.588244",
     "exception": false,
     "start_time": "2022-05-02T12:53:14.510908",
     "status": "completed"
    },
    "tags": []
   },
   "outputs": [
    {
     "data": {
      "text/plain": [
       "(9800, 18)"
      ]
     },
     "execution_count": 3,
     "metadata": {},
     "output_type": "execute_result"
    }
   ],
   "source": [
    "data.shape "
   ]
  },
  {
   "cell_type": "markdown",
   "id": "bcf70a84",
   "metadata": {
    "papermill": {
     "duration": 0.069513,
     "end_time": "2022-05-02T12:53:14.728261",
     "exception": false,
     "start_time": "2022-05-02T12:53:14.658748",
     "status": "completed"
    },
    "tags": []
   },
   "source": [
    "### Daha sonra isə null dəyərlər haqqında məlumat almaq lazımdır. Əgər nulla dəyərlər azdırsa onları atmaq və ya bərpa etmək lazımdır"
   ]
  },
  {
   "cell_type": "code",
   "execution_count": 4,
   "id": "48364caa",
   "metadata": {
    "execution": {
     "iopub.execute_input": "2022-05-02T12:53:14.868853Z",
     "iopub.status.busy": "2022-05-02T12:53:14.868382Z",
     "iopub.status.idle": "2022-05-02T12:53:14.891744Z",
     "shell.execute_reply": "2022-05-02T12:53:14.891131Z"
    },
    "papermill": {
     "duration": 0.095285,
     "end_time": "2022-05-02T12:53:14.893600",
     "exception": false,
     "start_time": "2022-05-02T12:53:14.798315",
     "status": "completed"
    },
    "tags": []
   },
   "outputs": [
    {
     "data": {
      "text/plain": [
       "Row ID            0\n",
       "Order ID          0\n",
       "Order Date        0\n",
       "Ship Date         0\n",
       "Ship Mode         0\n",
       "Customer ID       0\n",
       "Customer Name     0\n",
       "Segment           0\n",
       "Country           0\n",
       "City              0\n",
       "State             0\n",
       "Postal Code      11\n",
       "Region            0\n",
       "Product ID        0\n",
       "Category          0\n",
       "Sub-Category      0\n",
       "Product Name      0\n",
       "Sales             0\n",
       "dtype: int64"
      ]
     },
     "execution_count": 4,
     "metadata": {},
     "output_type": "execute_result"
    }
   ],
   "source": [
    "data.isnull().sum()"
   ]
  },
  {
   "cell_type": "markdown",
   "id": "977948c4",
   "metadata": {
    "papermill": {
     "duration": 0.070789,
     "end_time": "2022-05-02T12:53:15.043449",
     "exception": false,
     "start_time": "2022-05-02T12:53:14.972660",
     "status": "completed"
    },
    "tags": []
   },
   "source": [
    "### Datasetin sütunlarının data tiplərini öyrənmək lazımdır. Çünki data tipləri uyğun olmadıqda proseslər düzgün yerinə yetirilmir"
   ]
  },
  {
   "cell_type": "code",
   "execution_count": 5,
   "id": "31fd7986",
   "metadata": {
    "execution": {
     "iopub.execute_input": "2022-05-02T12:53:15.185193Z",
     "iopub.status.busy": "2022-05-02T12:53:15.184765Z",
     "iopub.status.idle": "2022-05-02T12:53:15.190673Z",
     "shell.execute_reply": "2022-05-02T12:53:15.190216Z"
    },
    "papermill": {
     "duration": 0.078928,
     "end_time": "2022-05-02T12:53:15.192459",
     "exception": false,
     "start_time": "2022-05-02T12:53:15.113531",
     "status": "completed"
    },
    "tags": []
   },
   "outputs": [
    {
     "data": {
      "text/plain": [
       "Row ID             int64\n",
       "Order ID          object\n",
       "Order Date        object\n",
       "Ship Date         object\n",
       "Ship Mode         object\n",
       "Customer ID       object\n",
       "Customer Name     object\n",
       "Segment           object\n",
       "Country           object\n",
       "City              object\n",
       "State             object\n",
       "Postal Code      float64\n",
       "Region            object\n",
       "Product ID        object\n",
       "Category          object\n",
       "Sub-Category      object\n",
       "Product Name      object\n",
       "Sales            float64\n",
       "dtype: object"
      ]
     },
     "execution_count": 5,
     "metadata": {},
     "output_type": "execute_result"
    }
   ],
   "source": [
    "data.dtypes"
   ]
  },
  {
   "cell_type": "markdown",
   "id": "3c4e66fe",
   "metadata": {
    "papermill": {
     "duration": 0.070454,
     "end_time": "2022-05-02T12:53:15.333882",
     "exception": false,
     "start_time": "2022-05-02T12:53:15.263428",
     "status": "completed"
    },
    "tags": []
   },
   "source": [
    "### Buradan aydın olur ki \"Order Date\" və \"Ship Date\" sütunları date tipi olmaq yerinə object olaraq verilib. Buna görədə date tipinə çevirmək lazımdır"
   ]
  },
  {
   "cell_type": "code",
   "execution_count": 6,
   "id": "dff0f335",
   "metadata": {
    "execution": {
     "iopub.execute_input": "2022-05-02T12:53:15.478060Z",
     "iopub.status.busy": "2022-05-02T12:53:15.476765Z",
     "iopub.status.idle": "2022-05-02T12:53:15.502328Z",
     "shell.execute_reply": "2022-05-02T12:53:15.501810Z"
    },
    "papermill": {
     "duration": 0.099613,
     "end_time": "2022-05-02T12:53:15.504556",
     "exception": false,
     "start_time": "2022-05-02T12:53:15.404943",
     "status": "completed"
    },
    "tags": []
   },
   "outputs": [],
   "source": [
    "data[\"Order Date\"] = pd.to_datetime(data[\"Order Date\"], dayfirst = True).dt.date\n",
    "data[\"Ship Date\"]=pd.to_datetime(data[\"Ship Date\"], dayfirst=True).dt.date"
   ]
  },
  {
   "cell_type": "markdown",
   "id": "597e8698",
   "metadata": {
    "papermill": {
     "duration": 0.069286,
     "end_time": "2022-05-02T12:53:15.643604",
     "exception": false,
     "start_time": "2022-05-02T12:53:15.574318",
     "status": "completed"
    },
    "tags": []
   },
   "source": [
    "### İndi isə \"Order Date\" sütununu illərə və aylara görə sütunlara bölmək lazımdır. Satışın illərə və aylara görə miqdarını öyrənmək üçün önəmlidir"
   ]
  },
  {
   "cell_type": "code",
   "execution_count": 7,
   "id": "e38cd07c",
   "metadata": {
    "execution": {
     "iopub.execute_input": "2022-05-02T12:53:15.786455Z",
     "iopub.status.busy": "2022-05-02T12:53:15.785496Z",
     "iopub.status.idle": "2022-05-02T12:53:15.805108Z",
     "shell.execute_reply": "2022-05-02T12:53:15.804092Z"
    },
    "papermill": {
     "duration": 0.093563,
     "end_time": "2022-05-02T12:53:15.807352",
     "exception": false,
     "start_time": "2022-05-02T12:53:15.713789",
     "status": "completed"
    },
    "tags": []
   },
   "outputs": [],
   "source": [
    "data[\"Year\"]=pd.to_datetime(data[\"Order Date\"]).dt.year\n",
    "data[\"Month\"]=pd.to_datetime(data[\"Order Date\"]).dt.month"
   ]
  },
  {
   "cell_type": "markdown",
   "id": "aa485270",
   "metadata": {
    "papermill": {
     "duration": 0.069703,
     "end_time": "2022-05-02T12:53:15.947157",
     "exception": false,
     "start_time": "2022-05-02T12:53:15.877454",
     "status": "completed"
    },
    "tags": []
   },
   "source": [
    "### İllərə görə toplam satış öyrənmək və onu anlaşılan vizual formaya salmaq lazımdır"
   ]
  },
  {
   "cell_type": "code",
   "execution_count": 8,
   "id": "5822a1ea",
   "metadata": {
    "execution": {
     "iopub.execute_input": "2022-05-02T12:53:16.091299Z",
     "iopub.status.busy": "2022-05-02T12:53:16.090923Z",
     "iopub.status.idle": "2022-05-02T12:53:16.103558Z",
     "shell.execute_reply": "2022-05-02T12:53:16.102214Z"
    },
    "papermill": {
     "duration": 0.087623,
     "end_time": "2022-05-02T12:53:16.106159",
     "exception": false,
     "start_time": "2022-05-02T12:53:16.018536",
     "status": "completed"
    },
    "tags": []
   },
   "outputs": [
    {
     "data": {
      "text/plain": [
       "Year\n",
       "2015    479856.2081\n",
       "2016    459436.0054\n",
       "2017    600192.5500\n",
       "2018    722052.0192\n",
       "Name: Sales, dtype: float64"
      ]
     },
     "execution_count": 8,
     "metadata": {},
     "output_type": "execute_result"
    }
   ],
   "source": [
    "data.groupby(\"Year\")[\"Sales\"].sum()"
   ]
  },
  {
   "cell_type": "code",
   "execution_count": 9,
   "id": "3e84636c",
   "metadata": {
    "execution": {
     "iopub.execute_input": "2022-05-02T12:53:16.248433Z",
     "iopub.status.busy": "2022-05-02T12:53:16.248057Z",
     "iopub.status.idle": "2022-05-02T12:53:16.450638Z",
     "shell.execute_reply": "2022-05-02T12:53:16.449955Z"
    },
    "papermill": {
     "duration": 0.276112,
     "end_time": "2022-05-02T12:53:16.452539",
     "exception": false,
     "start_time": "2022-05-02T12:53:16.176427",
     "status": "completed"
    },
    "tags": []
   },
   "outputs": [
    {
     "data": {
      "image/png": "[encoded data removed]",
      "text/plain": [
       "<Figure size 720x432 with 1 Axes>"
      ]
     },
     "metadata": {
      "needs_background": "light"
     },
     "output_type": "display_data"
    }
   ],
   "source": [
    "plt.figure(figsize=(10,6))\n",
    "sns.lineplot(data=data.groupby(\"Year\")[\"Sales\"].sum(),label=\"Sales\")\n",
    "plt.xlabel=\"Year\"\n",
    "plt.ylabel=\"Sales\"\n",
    "plt.title=(\"İllərə Görə Satış Miqdarı\")\n",
    "plt.show()"
   ]
  },
  {
   "cell_type": "markdown",
   "id": "617cffb7",
   "metadata": {
    "papermill": {
     "duration": 0.07041,
     "end_time": "2022-05-02T12:53:16.596314",
     "exception": false,
     "start_time": "2022-05-02T12:53:16.525904",
     "status": "completed"
    },
    "tags": []
   },
   "source": [
    "### Aylara görə ortalama satış öyrənmək və onu anlaşılan vizual formaya salmaq lazımdır"
   ]
  },
  {
   "cell_type": "code",
   "execution_count": 10,
   "id": "292a168c",
   "metadata": {
    "execution": {
     "iopub.execute_input": "2022-05-02T12:53:16.743508Z",
     "iopub.status.busy": "2022-05-02T12:53:16.743243Z",
     "iopub.status.idle": "2022-05-02T12:53:16.752715Z",
     "shell.execute_reply": "2022-05-02T12:53:16.751727Z"
    },
    "papermill": {
     "duration": 0.085208,
     "end_time": "2022-05-02T12:53:16.754753",
     "exception": false,
     "start_time": "2022-05-02T12:53:16.669545",
     "status": "completed"
    },
    "tags": []
   },
   "outputs": [
    {
     "data": {
      "text/plain": [
       "Month\n",
       "1     257.627403\n",
       "2     199.902745\n",
       "3     290.549393\n",
       "4     207.432269\n",
       "5     212.533412\n",
       "6     211.052856\n",
       "7     208.802997\n",
       "8     227.007110\n",
       "9     221.642106\n",
       "10    246.596162\n",
       "11    241.657496\n",
       "12    232.619515\n",
       "Name: Sales, dtype: float64"
      ]
     },
     "execution_count": 10,
     "metadata": {},
     "output_type": "execute_result"
    }
   ],
   "source": [
    "data.groupby(\"Month\")[\"Sales\"].mean()"
   ]
  },
  {
   "cell_type": "code",
   "execution_count": 11,
   "id": "af3f526a",
   "metadata": {
    "execution": {
     "iopub.execute_input": "2022-05-02T12:53:16.902043Z",
     "iopub.status.busy": "2022-05-02T12:53:16.901744Z",
     "iopub.status.idle": "2022-05-02T12:53:17.067312Z",
     "shell.execute_reply": "2022-05-02T12:53:17.066642Z"
    },
    "papermill": {
     "duration": 0.242181,
     "end_time": "2022-05-02T12:53:17.069451",
     "exception": false,
     "start_time": "2022-05-02T12:53:16.827270",
     "status": "completed"
    },
    "tags": []
   },
   "outputs": [
    {
     "data": {
      "image/png": "[encoded data removed]",
      "text/plain": [
       "<Figure size 432x288 with 1 Axes>"
      ]
     },
     "metadata": {
      "needs_background": "light"
     },
     "output_type": "display_data"
    }
   ],
   "source": [
    "monthmean=data.groupby(\"Month\")[\"Sales\"].mean().reset_index()\n",
    "datamonth=monthmean.set_index(\"Month\")\n",
    "sns.lineplot(data=datamonth)\n",
    "plt.xlabel=\"Month\"\n",
    "plt.ylabel=\"Sales\"\n",
    "plt.title=(\"Aylara görə ortalama satış\")\n",
    "plt.show()"
   ]
  },
  {
   "cell_type": "markdown",
   "id": "b2c32940",
   "metadata": {
    "papermill": {
     "duration": 0.075463,
     "end_time": "2022-05-02T12:53:17.219537",
     "exception": false,
     "start_time": "2022-05-02T12:53:17.144074",
     "status": "completed"
    },
    "tags": []
   },
   "source": [
    "### İllərin ayrılıqda aylara görə satışını öyrənməkdə lazım ola bilər"
   ]
  },
  {
   "cell_type": "code",
   "execution_count": 12,
   "id": "b5af7f50",
   "metadata": {
    "execution": {
     "iopub.execute_input": "2022-05-02T12:53:17.371168Z",
     "iopub.status.busy": "2022-05-02T12:53:17.370552Z",
     "iopub.status.idle": "2022-05-02T12:53:17.380391Z",
     "shell.execute_reply": "2022-05-02T12:53:17.379540Z"
    },
    "papermill": {
     "duration": 0.087655,
     "end_time": "2022-05-02T12:53:17.382719",
     "exception": false,
     "start_time": "2022-05-02T12:53:17.295064",
     "status": "completed"
    },
    "tags": []
   },
   "outputs": [],
   "source": [
    "data2015=data[data['Year']==2015]\n",
    "data2016=data[data['Year']==2016]\n",
    "data2017=data[data['Year']==2017]\n",
    "data2018=data[data['Year']==2018]"
   ]
  },
  {
   "cell_type": "markdown",
   "id": "ec0eb2ff",
   "metadata": {
    "papermill": {
     "duration": 0.072553,
     "end_time": "2022-05-02T12:53:17.528939",
     "exception": false,
     "start_time": "2022-05-02T12:53:17.456386",
     "status": "completed"
    },
    "tags": []
   },
   "source": [
    "### 2015 ci il üzrə aylıq satış"
   ]
  },
  {
   "cell_type": "code",
   "execution_count": 13,
   "id": "5c88d7e1",
   "metadata": {
    "execution": {
     "iopub.execute_input": "2022-05-02T12:53:17.676406Z",
     "iopub.status.busy": "2022-05-02T12:53:17.675856Z",
     "iopub.status.idle": "2022-05-02T12:53:17.685173Z",
     "shell.execute_reply": "2022-05-02T12:53:17.683931Z"
    },
    "papermill": {
     "duration": 0.086613,
     "end_time": "2022-05-02T12:53:17.687848",
     "exception": false,
     "start_time": "2022-05-02T12:53:17.601235",
     "status": "completed"
    },
    "tags": []
   },
   "outputs": [
    {
     "data": {
      "text/plain": [
       "Month\n",
       "1     14205.7070\n",
       "2      4519.8920\n",
       "3     55205.7970\n",
       "4     27906.8550\n",
       "5     23644.3030\n",
       "6     34322.9356\n",
       "7     33781.5430\n",
       "8     27117.5365\n",
       "9     81623.5268\n",
       "10    31453.3930\n",
       "11    77907.6607\n",
       "12    68167.0585\n",
       "Name: Sales, dtype: float64"
      ]
     },
     "execution_count": 13,
     "metadata": {},
     "output_type": "execute_result"
    }
   ],
   "source": [
    "data2015.groupby('Month')['Sales'].sum()"
   ]
  },
  {
   "cell_type": "code",
   "execution_count": 14,
   "id": "5c3ecb02",
   "metadata": {
    "execution": {
     "iopub.execute_input": "2022-05-02T12:53:17.840010Z",
     "iopub.status.busy": "2022-05-02T12:53:17.838679Z",
     "iopub.status.idle": "2022-05-02T12:53:18.112730Z",
     "shell.execute_reply": "2022-05-02T12:53:18.112005Z"
    },
    "papermill": {
     "duration": 0.352494,
     "end_time": "2022-05-02T12:53:18.114762",
     "exception": false,
     "start_time": "2022-05-02T12:53:17.762268",
     "status": "completed"
    },
    "tags": []
   },
   "outputs": [
    {
     "data": {
      "image/png": "[encoded data removed]",
      "text/plain": [
       "<Figure size 720x432 with 1 Axes>"
      ]
     },
     "metadata": {
      "needs_background": "light"
     },
     "output_type": "display_data"
    }
   ],
   "source": [
    "df2015=data2015.groupby('Month')['Sales'].sum()\n",
    "df2015month=df2015.reset_index()\n",
    "df2015month.set_index(\"Month\")\n",
    "#Vizuallaşdırma kodları\n",
    "plt.figure(figsize=(10,6))\n",
    "sns.set_theme(style=\"whitegrid\")\n",
    "sns.barplot(x=\"Month\",y=\"Sales\",data=df2015month)\n",
    "plt.title=(\"2015 ci il üzrə aylıq satış\")\n",
    "plt.show()"
   ]
  },
  {
   "cell_type": "markdown",
   "id": "bb2af354",
   "metadata": {
    "papermill": {
     "duration": 0.076775,
     "end_time": "2022-05-02T12:53:18.267668",
     "exception": false,
     "start_time": "2022-05-02T12:53:18.190893",
     "status": "completed"
    },
    "tags": []
   },
   "source": [
    "### 2016 ci il üzrə aylıq satış"
   ]
  },
  {
   "cell_type": "code",
   "execution_count": 15,
   "id": "df0ff7d3",
   "metadata": {
    "execution": {
     "iopub.execute_input": "2022-05-02T12:53:18.421146Z",
     "iopub.status.busy": "2022-05-02T12:53:18.420623Z",
     "iopub.status.idle": "2022-05-02T12:53:18.428949Z",
     "shell.execute_reply": "2022-05-02T12:53:18.428264Z"
    },
    "papermill": {
     "duration": 0.085714,
     "end_time": "2022-05-02T12:53:18.430881",
     "exception": false,
     "start_time": "2022-05-02T12:53:18.345167",
     "status": "completed"
    },
    "tags": []
   },
   "outputs": [
    {
     "data": {
      "text/plain": [
       "Month\n",
       "1     18066.9576\n",
       "2     11951.4110\n",
       "3     32339.3184\n",
       "4     34154.4685\n",
       "5     29959.5305\n",
       "6     23599.3740\n",
       "7     28608.2590\n",
       "8     36818.3422\n",
       "9     63133.6060\n",
       "10    31011.7375\n",
       "11    75249.3995\n",
       "12    74543.6012\n",
       "Name: Sales, dtype: float64"
      ]
     },
     "execution_count": 15,
     "metadata": {},
     "output_type": "execute_result"
    }
   ],
   "source": [
    "data2016.groupby(\"Month\")['Sales'].sum()"
   ]
  },
  {
   "cell_type": "code",
   "execution_count": 16,
   "id": "1b25955a",
   "metadata": {
    "execution": {
     "iopub.execute_input": "2022-05-02T12:53:18.583712Z",
     "iopub.status.busy": "2022-05-02T12:53:18.583267Z",
     "iopub.status.idle": "2022-05-02T12:53:18.844783Z",
     "shell.execute_reply": "2022-05-02T12:53:18.843695Z"
    },
    "papermill": {
     "duration": 0.340731,
     "end_time": "2022-05-02T12:53:18.847199",
     "exception": false,
     "start_time": "2022-05-02T12:53:18.506468",
     "status": "completed"
    },
    "tags": []
   },
   "outputs": [
    {
     "data": {
      "image/png": "[encoded data removed]",
      "text/plain": [
       "<Figure size 720x432 with 1 Axes>"
      ]
     },
     "metadata": {},
     "output_type": "display_data"
    }
   ],
   "source": [
    "df2016=data2016.groupby(\"Month\")['Sales'].sum()\n",
    "df2016month=df2016.reset_index()\n",
    "df2016month.set_index(\"Month\")\n",
    "### Vizuallaşdırma kodları\n",
    "plt.figure(figsize=(10,6))\n",
    "sns.set_theme(style=\"whitegrid\")\n",
    "sns.barplot(x=\"Month\",y=\"Sales\",data=df2016month).set(title=\"2016 ci il üzrə aylıq satış\")\n",
    "plt.show()"
   ]
  },
  {
   "cell_type": "markdown",
   "id": "d3c4e306",
   "metadata": {
    "papermill": {
     "duration": 0.07603,
     "end_time": "2022-05-02T12:53:18.999602",
     "exception": false,
     "start_time": "2022-05-02T12:53:18.923572",
     "status": "completed"
    },
    "tags": []
   },
   "source": [
    "### 2017 ci il üzrə aylıq satış"
   ]
  },
  {
   "cell_type": "code",
   "execution_count": 17,
   "id": "cbdd1d40",
   "metadata": {
    "execution": {
     "iopub.execute_input": "2022-05-02T12:53:19.153895Z",
     "iopub.status.busy": "2022-05-02T12:53:19.153614Z",
     "iopub.status.idle": "2022-05-02T12:53:19.161835Z",
     "shell.execute_reply": "2022-05-02T12:53:19.161301Z"
    },
    "papermill": {
     "duration": 0.087615,
     "end_time": "2022-05-02T12:53:19.163453",
     "exception": false,
     "start_time": "2022-05-02T12:53:19.075838",
     "status": "completed"
    },
    "tags": []
   },
   "outputs": [
    {
     "data": {
      "text/plain": [
       "Month\n",
       "1     18542.4910\n",
       "2     22978.8150\n",
       "3     51165.0590\n",
       "4     38679.7670\n",
       "5     56656.9080\n",
       "6     39724.4860\n",
       "7     38320.7830\n",
       "8     30542.2003\n",
       "9     69193.3909\n",
       "10    59583.0330\n",
       "11    79066.4958\n",
       "12    95739.1210\n",
       "Name: Sales, dtype: float64"
      ]
     },
     "execution_count": 17,
     "metadata": {},
     "output_type": "execute_result"
    }
   ],
   "source": [
    "data2017.groupby(\"Month\")[\"Sales\"].sum()"
   ]
  },
  {
   "cell_type": "code",
   "execution_count": 18,
   "id": "7cc7b984",
   "metadata": {
    "execution": {
     "iopub.execute_input": "2022-05-02T12:53:19.265919Z",
     "iopub.status.busy": "2022-05-02T12:53:19.265684Z",
     "iopub.status.idle": "2022-05-02T12:53:19.518953Z",
     "shell.execute_reply": "2022-05-02T12:53:19.518326Z"
    },
    "papermill": {
     "duration": 0.306261,
     "end_time": "2022-05-02T12:53:19.520410",
     "exception": false,
     "start_time": "2022-05-02T12:53:19.214149",
     "status": "completed"
    },
    "tags": []
   },
   "outputs": [
    {
     "data": {
      "image/png": "[encoded data removed]",
      "text/plain": [
       "<Figure size 720x432 with 1 Axes>"
      ]
     },
     "metadata": {},
     "output_type": "display_data"
    }
   ],
   "source": [
    "df2017=data2017.groupby(\"Month\")[\"Sales\"].sum()\n",
    "df2017month=df2017.reset_index()\n",
    "df2017month.set_index(\"Month\")\n",
    "### Vizuallaşdırma kodları\n",
    "plt.figure(figsize=(10,6))\n",
    "sns.barplot(x=\"Month\",y=\"Sales\",data=df2017month).set(title=\"2017 ci il üzrə aylıq satış\")\n",
    "plt.show() "
   ]
  },
  {
   "cell_type": "markdown",
   "id": "6d952978",
   "metadata": {
    "papermill": {
     "duration": 0.05278,
     "end_time": "2022-05-02T12:53:19.627752",
     "exception": false,
     "start_time": "2022-05-02T12:53:19.574972",
     "status": "completed"
    },
    "tags": []
   },
   "source": [
    "### 2018 ci il üzrə aylıq satış"
   ]
  },
  {
   "cell_type": "code",
   "execution_count": 19,
   "id": "c1b481c6",
   "metadata": {
    "execution": {
     "iopub.execute_input": "2022-05-02T12:53:19.735437Z",
     "iopub.status.busy": "2022-05-02T12:53:19.734539Z",
     "iopub.status.idle": "2022-05-02T12:53:19.743877Z",
     "shell.execute_reply": "2022-05-02T12:53:19.743078Z"
    },
    "papermill": {
     "duration": 0.066019,
     "end_time": "2022-05-02T12:53:19.746402",
     "exception": false,
     "start_time": "2022-05-02T12:53:19.680383",
     "status": "completed"
    },
    "tags": []
   },
   "outputs": [
    {
     "data": {
      "text/plain": [
       "Month\n",
       "1      43476.4740\n",
       "2      19920.9974\n",
       "3      58863.4128\n",
       "4      35541.9101\n",
       "5      43825.9822\n",
       "6      48190.7277\n",
       "7      44825.1040\n",
       "8      62837.8480\n",
       "9      86152.8880\n",
       "10     77448.1312\n",
       "11    117938.1550\n",
       "12     83030.3888\n",
       "Name: Sales, dtype: float64"
      ]
     },
     "execution_count": 19,
     "metadata": {},
     "output_type": "execute_result"
    }
   ],
   "source": [
    "data2018.groupby(\"Month\")[\"Sales\"].sum()"
   ]
  },
  {
   "cell_type": "code",
   "execution_count": 20,
   "id": "bb6556ad",
   "metadata": {
    "execution": {
     "iopub.execute_input": "2022-05-02T12:53:19.854159Z",
     "iopub.status.busy": "2022-05-02T12:53:19.853881Z",
     "iopub.status.idle": "2022-05-02T12:53:20.072040Z",
     "shell.execute_reply": "2022-05-02T12:53:20.070872Z"
    },
    "papermill": {
     "duration": 0.275081,
     "end_time": "2022-05-02T12:53:20.074631",
     "exception": false,
     "start_time": "2022-05-02T12:53:19.799550",
     "status": "completed"
    },
    "tags": []
   },
   "outputs": [
    {
     "data": {
      "image/png": "[encoded data removed]",
      "text/plain": [
       "<Figure size 720x432 with 1 Axes>"
      ]
     },
     "metadata": {},
     "output_type": "display_data"
    }
   ],
   "source": [
    "df2018=data2018.groupby(\"Month\")[\"Sales\"].sum()\n",
    "df2018month=df2018.reset_index()\n",
    "df2018month.set_index(\"Month\")\n",
    "### Vizuallaşdırma kodları\n",
    "plt.figure(figsize=(10,6))\n",
    "sns.barplot(x=\"Month\",y=\"Sales\",data=df2018month).set(title=\"2018 ci il üzrə aylıq satış\")\n",
    "plt.show() "
   ]
  },
  {
   "cell_type": "markdown",
   "id": "ca7436b7",
   "metadata": {
    "papermill": {
     "duration": 0.07835,
     "end_time": "2022-05-02T12:53:20.231455",
     "exception": false,
     "start_time": "2022-05-02T12:53:20.153105",
     "status": "completed"
    },
    "tags": []
   },
   "source": [
    "### Ən çox satış edən 10 State"
   ]
  },
  {
   "cell_type": "code",
   "execution_count": 21,
   "id": "7e8d8c91",
   "metadata": {
    "execution": {
     "iopub.execute_input": "2022-05-02T12:53:20.391653Z",
     "iopub.status.busy": "2022-05-02T12:53:20.391324Z",
     "iopub.status.idle": "2022-05-02T12:53:20.401555Z",
     "shell.execute_reply": "2022-05-02T12:53:20.400855Z"
    },
    "papermill": {
     "duration": 0.093237,
     "end_time": "2022-05-02T12:53:20.403394",
     "exception": false,
     "start_time": "2022-05-02T12:53:20.310157",
     "status": "completed"
    },
    "tags": []
   },
   "outputs": [
    {
     "data": {
      "text/plain": [
       "State\n",
       "California      446306.4635\n",
       "New York        306361.1470\n",
       "Texas           168572.5322\n",
       "Washington      135206.8500\n",
       "Pennsylvania    116276.6500\n",
       "Florida          88436.5320\n",
       "Illinois         79236.5170\n",
       "Michigan         76136.0740\n",
       "Ohio             75130.3500\n",
       "Virginia         70636.7200\n",
       "Name: Sales, dtype: float64"
      ]
     },
     "execution_count": 21,
     "metadata": {},
     "output_type": "execute_result"
    }
   ],
   "source": [
    "data.groupby(\"State\")[\"Sales\"].sum().sort_values(ascending=False).head(10)"
   ]
  },
  {
   "cell_type": "code",
   "execution_count": 22,
   "id": "61bdae05",
   "metadata": {
    "execution": {
     "iopub.execute_input": "2022-05-02T12:53:20.568953Z",
     "iopub.status.busy": "2022-05-02T12:53:20.567539Z",
     "iopub.status.idle": "2022-05-02T12:53:20.797989Z",
     "shell.execute_reply": "2022-05-02T12:53:20.796899Z"
    },
    "papermill": {
     "duration": 0.315034,
     "end_time": "2022-05-02T12:53:20.799966",
     "exception": false,
     "start_time": "2022-05-02T12:53:20.484932",
     "status": "completed"
    },
    "tags": []
   },
   "outputs": [
    {
     "data": {
      "image/png": "[encoded data removed]",
      "text/plain": [
       "<Figure size 720x432 with 1 Axes>"
      ]
     },
     "metadata": {},
     "output_type": "display_data"
    }
   ],
   "source": [
    "datastate=data.groupby(\"State\")[\"Sales\"].sum().sort_values(ascending=False).head(10).reset_index()\n",
    "plt.figure(figsize=(10,6))\n",
    "sns.barplot(y=\"State\",x=\"Sales\",data=datastate).set(title=\"Ən çox satış edən 10 State\")\n",
    "sns.set_theme(style=\"whitegrid\")\n",
    "plt.show()"
   ]
  },
  {
   "cell_type": "markdown",
   "id": "2b61c2c0",
   "metadata": {
    "papermill": {
     "duration": 0.080208,
     "end_time": "2022-05-02T12:53:20.959930",
     "exception": false,
     "start_time": "2022-05-02T12:53:20.879722",
     "status": "completed"
    },
    "tags": []
   },
   "source": [
    "### Ən çox satış edən 10 City"
   ]
  },
  {
   "cell_type": "code",
   "execution_count": 23,
   "id": "cf83aa21",
   "metadata": {
    "execution": {
     "iopub.execute_input": "2022-05-02T12:53:21.123564Z",
     "iopub.status.busy": "2022-05-02T12:53:21.123288Z",
     "iopub.status.idle": "2022-05-02T12:53:21.136382Z",
     "shell.execute_reply": "2022-05-02T12:53:21.135243Z"
    },
    "papermill": {
     "duration": 0.098008,
     "end_time": "2022-05-02T12:53:21.138473",
     "exception": false,
     "start_time": "2022-05-02T12:53:21.040465",
     "status": "completed"
    },
    "tags": []
   },
   "outputs": [
    {
     "data": {
      "text/plain": [
       "City\n",
       "New York City    252462.5470\n",
       "Los Angeles      173420.1810\n",
       "Seattle          116106.3220\n",
       "San Francisco    109041.1200\n",
       "Philadelphia     108841.7490\n",
       "Houston           63956.1428\n",
       "Chicago           47820.1330\n",
       "San Diego         47521.0290\n",
       "Jacksonville      44713.1830\n",
       "Detroit           42446.9440\n",
       "Name: Sales, dtype: float64"
      ]
     },
     "execution_count": 23,
     "metadata": {},
     "output_type": "execute_result"
    }
   ],
   "source": [
    "data.groupby(\"City\")['Sales'].sum().sort_values(ascending=False).head(10) "
   ]
  },
  {
   "cell_type": "code",
   "execution_count": 24,
   "id": "5e6cff92",
   "metadata": {
    "execution": {
     "iopub.execute_input": "2022-05-02T12:53:21.259769Z",
     "iopub.status.busy": "2022-05-02T12:53:21.259474Z",
     "iopub.status.idle": "2022-05-02T12:53:21.511094Z",
     "shell.execute_reply": "2022-05-02T12:53:21.510260Z"
    },
    "papermill": {
     "duration": 0.309847,
     "end_time": "2022-05-02T12:53:21.512622",
     "exception": false,
     "start_time": "2022-05-02T12:53:21.202775",
     "status": "completed"
    },
    "tags": []
   },
   "outputs": [
    {
     "data": {
      "image/png": "[encoded data removed]",
      "text/plain": [
       "<Figure size 720x432 with 1 Axes>"
      ]
     },
     "metadata": {},
     "output_type": "display_data"
    }
   ],
   "source": [
    "datacity=data.groupby(\"City\")['Sales'].sum().sort_values(ascending=False).head(10).reset_index()\n",
    "plt.figure(figsize=(10,6))\n",
    "sns.barplot(x=\"Sales\",y=\"City\",data=datacity).set(title=\"Ən çox satış edən 10 şəhər\")\n",
    "plt.show()"
   ]
  },
  {
   "cell_type": "markdown",
   "id": "ad4b7852",
   "metadata": {
    "papermill": {
     "duration": 0.055586,
     "end_time": "2022-05-02T12:53:21.623950",
     "exception": false,
     "start_time": "2022-05-02T12:53:21.568364",
     "status": "completed"
    },
    "tags": []
   },
   "source": [
    "### Category üzrə satış"
   ]
  },
  {
   "cell_type": "code",
   "execution_count": 25,
   "id": "f4a782ce",
   "metadata": {
    "execution": {
     "iopub.execute_input": "2022-05-02T12:53:21.737594Z",
     "iopub.status.busy": "2022-05-02T12:53:21.737203Z",
     "iopub.status.idle": "2022-05-02T12:53:21.747875Z",
     "shell.execute_reply": "2022-05-02T12:53:21.747102Z"
    },
    "papermill": {
     "duration": 0.070038,
     "end_time": "2022-05-02T12:53:21.749958",
     "exception": false,
     "start_time": "2022-05-02T12:53:21.679920",
     "status": "completed"
    },
    "tags": []
   },
   "outputs": [
    {
     "data": {
      "text/plain": [
       "Category\n",
       "Technology         827455.8730\n",
       "Furniture          728658.5757\n",
       "Office Supplies    705422.3340\n",
       "Name: Sales, dtype: float64"
      ]
     },
     "execution_count": 25,
     "metadata": {},
     "output_type": "execute_result"
    }
   ],
   "source": [
    "data.groupby(\"Category\")['Sales'].sum().sort_values(ascending=False)"
   ]
  },
  {
   "cell_type": "code",
   "execution_count": 26,
   "id": "29ec9fbd",
   "metadata": {
    "execution": {
     "iopub.execute_input": "2022-05-02T12:53:21.866180Z",
     "iopub.status.busy": "2022-05-02T12:53:21.865755Z",
     "iopub.status.idle": "2022-05-02T12:53:22.286511Z",
     "shell.execute_reply": "2022-05-02T12:53:22.285890Z"
    },
    "papermill": {
     "duration": 0.481171,
     "end_time": "2022-05-02T12:53:22.288499",
     "exception": false,
     "start_time": "2022-05-02T12:53:21.807328",
     "status": "completed"
    },
    "tags": []
   },
   "outputs": [
    {
     "data": {
      "image/png": "[encoded data removed]",
      "text/plain": [
       "<Figure size 720x432 with 1 Axes>"
      ]
     },
     "metadata": {},
     "output_type": "display_data"
    }
   ],
   "source": [
    "datacategory=data.groupby(\"Category\")['Sales'].sum().sort_values(ascending=False).reset_index()\n",
    "plt.figure(figsize=(10,6))\n",
    "sns.barplot(x=\"Sales\",y=\"Category\",data=datacategory).set(title=\"Category Üzrə Satış\")\n",
    "plt.show()"
   ]
  },
  {
   "cell_type": "markdown",
   "id": "facf4476",
   "metadata": {
    "papermill": {
     "duration": 0.056587,
     "end_time": "2022-05-02T12:53:22.401427",
     "exception": false,
     "start_time": "2022-05-02T12:53:22.344840",
     "status": "completed"
    },
    "tags": []
   },
   "source": [
    "### Sub-Category üzrə ən çox satan 10 məhsul"
   ]
  },
  {
   "cell_type": "code",
   "execution_count": 27,
   "id": "32fc5e83",
   "metadata": {
    "execution": {
     "iopub.execute_input": "2022-05-02T12:53:22.514627Z",
     "iopub.status.busy": "2022-05-02T12:53:22.514218Z",
     "iopub.status.idle": "2022-05-02T12:53:22.528016Z",
     "shell.execute_reply": "2022-05-02T12:53:22.527486Z"
    },
    "papermill": {
     "duration": 0.072368,
     "end_time": "2022-05-02T12:53:22.529525",
     "exception": false,
     "start_time": "2022-05-02T12:53:22.457157",
     "status": "completed"
    },
    "tags": []
   },
   "outputs": [
    {
     "data": {
      "text/html": [
       "<div>\n",
       "<style scoped>\n",
       "    .dataframe tbody tr th:only-of-type {\n",
       "        vertical-align: middle;\n",
       "    }\n",
       "\n",
       "    .dataframe tbody tr th {\n",
       "        vertical-align: top;\n",
       "    }\n",
       "\n",
       "    .dataframe thead th {\n",
       "        text-align: right;\n",
       "    }\n",
       "</style>\n",
       "<table border=\"1\" class=\"dataframe\">\n",
       "  <thead>\n",
       "    <tr style=\"text-align: right;\">\n",
       "      <th></th>\n",
       "      <th>Sub-Category</th>\n",
       "      <th>Sales</th>\n",
       "    </tr>\n",
       "  </thead>\n",
       "  <tbody>\n",
       "    <tr>\n",
       "      <th>0</th>\n",
       "      <td>Phones</td>\n",
       "      <td>327782.4480</td>\n",
       "    </tr>\n",
       "    <tr>\n",
       "      <th>1</th>\n",
       "      <td>Chairs</td>\n",
       "      <td>322822.7310</td>\n",
       "    </tr>\n",
       "    <tr>\n",
       "      <th>2</th>\n",
       "      <td>Storage</td>\n",
       "      <td>219343.3920</td>\n",
       "    </tr>\n",
       "    <tr>\n",
       "      <th>3</th>\n",
       "      <td>Tables</td>\n",
       "      <td>202810.6280</td>\n",
       "    </tr>\n",
       "    <tr>\n",
       "      <th>4</th>\n",
       "      <td>Binders</td>\n",
       "      <td>200028.7850</td>\n",
       "    </tr>\n",
       "    <tr>\n",
       "      <th>5</th>\n",
       "      <td>Machines</td>\n",
       "      <td>189238.6310</td>\n",
       "    </tr>\n",
       "    <tr>\n",
       "      <th>6</th>\n",
       "      <td>Accessories</td>\n",
       "      <td>164186.7000</td>\n",
       "    </tr>\n",
       "    <tr>\n",
       "      <th>7</th>\n",
       "      <td>Copiers</td>\n",
       "      <td>146248.0940</td>\n",
       "    </tr>\n",
       "    <tr>\n",
       "      <th>8</th>\n",
       "      <td>Bookcases</td>\n",
       "      <td>113813.1987</td>\n",
       "    </tr>\n",
       "    <tr>\n",
       "      <th>9</th>\n",
       "      <td>Appliances</td>\n",
       "      <td>104618.4030</td>\n",
       "    </tr>\n",
       "  </tbody>\n",
       "</table>\n",
       "</div>"
      ],
      "text/plain": [
       "  Sub-Category        Sales\n",
       "0       Phones  327782.4480\n",
       "1       Chairs  322822.7310\n",
       "2      Storage  219343.3920\n",
       "3       Tables  202810.6280\n",
       "4      Binders  200028.7850\n",
       "5     Machines  189238.6310\n",
       "6  Accessories  164186.7000\n",
       "7      Copiers  146248.0940\n",
       "8    Bookcases  113813.1987\n",
       "9   Appliances  104618.4030"
      ]
     },
     "execution_count": 27,
     "metadata": {},
     "output_type": "execute_result"
    }
   ],
   "source": [
    "data.groupby(\"Sub-Category\")['Sales'].sum().sort_values(ascending=False).reset_index().head(10)"
   ]
  },
  {
   "cell_type": "code",
   "execution_count": 28,
   "id": "6cdc8788",
   "metadata": {
    "execution": {
     "iopub.execute_input": "2022-05-02T12:53:22.646881Z",
     "iopub.status.busy": "2022-05-02T12:53:22.645747Z",
     "iopub.status.idle": "2022-05-02T12:53:22.899534Z",
     "shell.execute_reply": "2022-05-02T12:53:22.898631Z"
    },
    "papermill": {
     "duration": 0.314418,
     "end_time": "2022-05-02T12:53:22.901482",
     "exception": false,
     "start_time": "2022-05-02T12:53:22.587064",
     "status": "completed"
    },
    "tags": []
   },
   "outputs": [
    {
     "data": {
      "image/png": "[encoded data removed]",
      "text/plain": [
       "<Figure size 720x432 with 1 Axes>"
      ]
     },
     "metadata": {},
     "output_type": "display_data"
    }
   ],
   "source": [
    "datasub=data.groupby(\"Sub-Category\")['Sales'].sum().sort_values(ascending=False).reset_index().head(10)\n",
    "plt.figure(figsize=(10,6))\n",
    "sns.barplot(x=\"Sales\",y=\"Sub-Category\",data=datasub).set(title=\"Sub-Category Üzrə Satış\")\n",
    "plt.show()"
   ]
  },
  {
   "cell_type": "markdown",
   "id": "be6e8769",
   "metadata": {
    "papermill": {
     "duration": 0.085573,
     "end_time": "2022-05-02T12:53:23.073689",
     "exception": false,
     "start_time": "2022-05-02T12:53:22.988116",
     "status": "completed"
    },
    "tags": []
   },
   "source": [
    "### State City üzrə satış"
   ]
  },
  {
   "cell_type": "code",
   "execution_count": 29,
   "id": "0efb457c",
   "metadata": {
    "execution": {
     "iopub.execute_input": "2022-05-02T12:53:23.248154Z",
     "iopub.status.busy": "2022-05-02T12:53:23.247725Z",
     "iopub.status.idle": "2022-05-02T12:53:23.260555Z",
     "shell.execute_reply": "2022-05-02T12:53:23.260161Z"
    },
    "papermill": {
     "duration": 0.102777,
     "end_time": "2022-05-02T12:53:23.262279",
     "exception": false,
     "start_time": "2022-05-02T12:53:23.159502",
     "status": "completed"
    },
    "tags": []
   },
   "outputs": [
    {
     "data": {
      "text/plain": [
       "State         City         \n",
       "New York      New York City    252462.547\n",
       "California    Los Angeles      173420.181\n",
       "Washington    Seattle          116106.322\n",
       "California    San Francisco    109041.120\n",
       "Pennsylvania  Philadelphia     108841.749\n",
       "                                  ...    \n",
       "Florida       Ormond Beach          2.808\n",
       "              Pensacola             2.214\n",
       "              Jupiter               2.064\n",
       "Ohio          Elyria                1.824\n",
       "Texas         Abilene               1.392\n",
       "Name: Sales, Length: 600, dtype: float64"
      ]
     },
     "execution_count": 29,
     "metadata": {},
     "output_type": "execute_result"
    }
   ],
   "source": [
    "data.groupby([\"State\",\"City\"])[\"Sales\"].sum().sort_values(ascending=False)"
   ]
  },
  {
   "cell_type": "markdown",
   "id": "9c04ce09",
   "metadata": {
    "papermill": {
     "duration": 0.08571,
     "end_time": "2022-05-02T12:53:23.434204",
     "exception": false,
     "start_time": "2022-05-02T12:53:23.348494",
     "status": "completed"
    },
    "tags": []
   },
   "source": [
    "### Segment üzrə satış"
   ]
  },
  {
   "cell_type": "code",
   "execution_count": 30,
   "id": "bbb8a5aa",
   "metadata": {
    "execution": {
     "iopub.execute_input": "2022-05-02T12:53:23.609390Z",
     "iopub.status.busy": "2022-05-02T12:53:23.608977Z",
     "iopub.status.idle": "2022-05-02T12:53:23.616165Z",
     "shell.execute_reply": "2022-05-02T12:53:23.615433Z"
    },
    "papermill": {
     "duration": 0.096476,
     "end_time": "2022-05-02T12:53:23.617795",
     "exception": false,
     "start_time": "2022-05-02T12:53:23.521319",
     "status": "completed"
    },
    "tags": []
   },
   "outputs": [
    {
     "data": {
      "text/plain": [
       "Segment\n",
       "Consumer       1.148061e+06\n",
       "Corporate      6.884941e+05\n",
       "Home Office    4.249822e+05\n",
       "Name: Sales, dtype: float64"
      ]
     },
     "execution_count": 30,
     "metadata": {},
     "output_type": "execute_result"
    }
   ],
   "source": [
    "data.groupby(\"Segment\")[\"Sales\"].sum().sort_values(ascending=False)"
   ]
  },
  {
   "cell_type": "code",
   "execution_count": 31,
   "id": "9e3ab45b",
   "metadata": {
    "execution": {
     "iopub.execute_input": "2022-05-02T12:53:23.796199Z",
     "iopub.status.busy": "2022-05-02T12:53:23.794741Z",
     "iopub.status.idle": "2022-05-02T12:53:24.020072Z",
     "shell.execute_reply": "2022-05-02T12:53:24.019454Z"
    },
    "papermill": {
     "duration": 0.316176,
     "end_time": "2022-05-02T12:53:24.022057",
     "exception": false,
     "start_time": "2022-05-02T12:53:23.705881",
     "status": "completed"
    },
    "tags": []
   },
   "outputs": [
    {
     "data": {
      "text/plain": [
       "[Text(0.5, 1.0, 'Segment Üzrə Satış')]"
      ]
     },
     "execution_count": 31,
     "metadata": {},
     "output_type": "execute_result"
    },
    {
     "data": {
      "image/png": "[encoded data removed]",
      "text/plain": [
       "<Figure size 720x432 with 1 Axes>"
      ]
     },
     "metadata": {},
     "output_type": "display_data"
    }
   ],
   "source": [
    "dataseg=data.groupby(\"Segment\")[\"Sales\"].sum().sort_values(ascending=False).reset_index()\n",
    "plt.figure(figsize=(10,6))\n",
    "sns.barplot(x=\"Sales\",y=\"Segment\",data=dataseg).set(title=\"Segment Üzrə Satış\")"
   ]
  },
  {
   "cell_type": "markdown",
   "id": "2f19e875",
   "metadata": {
    "papermill": {
     "duration": 0.089508,
     "end_time": "2022-05-02T12:53:24.200674",
     "exception": false,
     "start_time": "2022-05-02T12:53:24.111166",
     "status": "completed"
    },
    "tags": []
   },
   "source": [
    "### Ən çox alış-veriş edən müştərilər"
   ]
  },
  {
   "cell_type": "code",
   "execution_count": 32,
   "id": "616ae52a",
   "metadata": {
    "execution": {
     "iopub.execute_input": "2022-05-02T12:53:24.381260Z",
     "iopub.status.busy": "2022-05-02T12:53:24.380225Z",
     "iopub.status.idle": "2022-05-02T12:53:24.395278Z",
     "shell.execute_reply": "2022-05-02T12:53:24.394794Z"
    },
    "papermill": {
     "duration": 0.107317,
     "end_time": "2022-05-02T12:53:24.397074",
     "exception": false,
     "start_time": "2022-05-02T12:53:24.289757",
     "status": "completed"
    },
    "tags": []
   },
   "outputs": [
    {
     "data": {
      "text/html": [
       "<div>\n",
       "<style scoped>\n",
       "    .dataframe tbody tr th:only-of-type {\n",
       "        vertical-align: middle;\n",
       "    }\n",
       "\n",
       "    .dataframe tbody tr th {\n",
       "        vertical-align: top;\n",
       "    }\n",
       "\n",
       "    .dataframe thead th {\n",
       "        text-align: right;\n",
       "    }\n",
       "</style>\n",
       "<table border=\"1\" class=\"dataframe\">\n",
       "  <thead>\n",
       "    <tr style=\"text-align: right;\">\n",
       "      <th></th>\n",
       "      <th>Customer Name</th>\n",
       "      <th>Sales</th>\n",
       "    </tr>\n",
       "  </thead>\n",
       "  <tbody>\n",
       "    <tr>\n",
       "      <th>0</th>\n",
       "      <td>Sean Miller</td>\n",
       "      <td>25043.050</td>\n",
       "    </tr>\n",
       "    <tr>\n",
       "      <th>1</th>\n",
       "      <td>Tamara Chand</td>\n",
       "      <td>19052.218</td>\n",
       "    </tr>\n",
       "    <tr>\n",
       "      <th>2</th>\n",
       "      <td>Raymond Buch</td>\n",
       "      <td>15117.339</td>\n",
       "    </tr>\n",
       "    <tr>\n",
       "      <th>3</th>\n",
       "      <td>Tom Ashbrook</td>\n",
       "      <td>14595.620</td>\n",
       "    </tr>\n",
       "    <tr>\n",
       "      <th>4</th>\n",
       "      <td>Adrian Barton</td>\n",
       "      <td>14473.571</td>\n",
       "    </tr>\n",
       "    <tr>\n",
       "      <th>5</th>\n",
       "      <td>Ken Lonsdale</td>\n",
       "      <td>14175.229</td>\n",
       "    </tr>\n",
       "    <tr>\n",
       "      <th>6</th>\n",
       "      <td>Sanjit Chand</td>\n",
       "      <td>14142.334</td>\n",
       "    </tr>\n",
       "    <tr>\n",
       "      <th>7</th>\n",
       "      <td>Hunter Lopez</td>\n",
       "      <td>12873.298</td>\n",
       "    </tr>\n",
       "    <tr>\n",
       "      <th>8</th>\n",
       "      <td>Sanjit Engle</td>\n",
       "      <td>12209.438</td>\n",
       "    </tr>\n",
       "    <tr>\n",
       "      <th>9</th>\n",
       "      <td>Christopher Conant</td>\n",
       "      <td>12129.072</td>\n",
       "    </tr>\n",
       "  </tbody>\n",
       "</table>\n",
       "</div>"
      ],
      "text/plain": [
       "        Customer Name      Sales\n",
       "0         Sean Miller  25043.050\n",
       "1        Tamara Chand  19052.218\n",
       "2        Raymond Buch  15117.339\n",
       "3        Tom Ashbrook  14595.620\n",
       "4       Adrian Barton  14473.571\n",
       "5        Ken Lonsdale  14175.229\n",
       "6        Sanjit Chand  14142.334\n",
       "7        Hunter Lopez  12873.298\n",
       "8        Sanjit Engle  12209.438\n",
       "9  Christopher Conant  12129.072"
      ]
     },
     "execution_count": 32,
     "metadata": {},
     "output_type": "execute_result"
    }
   ],
   "source": [
    "data.groupby(\"Customer Name\")[\"Sales\"].sum().sort_values(ascending=False).head(10).reset_index()"
   ]
  },
  {
   "cell_type": "code",
   "execution_count": 33,
   "id": "e67c07f8",
   "metadata": {
    "execution": {
     "iopub.execute_input": "2022-05-02T12:53:24.580026Z",
     "iopub.status.busy": "2022-05-02T12:53:24.579577Z",
     "iopub.status.idle": "2022-05-02T12:53:24.869572Z",
     "shell.execute_reply": "2022-05-02T12:53:24.868472Z"
    },
    "papermill": {
     "duration": 0.383741,
     "end_time": "2022-05-02T12:53:24.871473",
     "exception": false,
     "start_time": "2022-05-02T12:53:24.487732",
     "status": "completed"
    },
    "tags": []
   },
   "outputs": [
    {
     "data": {
      "text/plain": [
       "[Text(0.5, 1.0, 'Customerlər Üzrə Satış')]"
      ]
     },
     "execution_count": 33,
     "metadata": {},
     "output_type": "execute_result"
    },
    {
     "data": {
      "image/png": "[encoded data removed]",
      "text/plain": [
       "<Figure size 720x432 with 1 Axes>"
      ]
     },
     "metadata": {},
     "output_type": "display_data"
    }
   ],
   "source": [
    "dataset=data.groupby(\"Customer Name\")[\"Sales\"].sum().sort_values(ascending=False).head(10).reset_index()\n",
    "plt.figure(figsize=(10,6)) \n",
    "sns.barplot(x=\"Sales\",y=\"Customer Name\",data=dataset).set(title=\"Customerlər Üzrə Satış\")"
   ]
  },
  {
   "cell_type": "markdown",
   "id": "524c8e7e",
   "metadata": {
    "papermill": {
     "duration": 0.088217,
     "end_time": "2022-05-02T12:53:25.049721",
     "exception": false,
     "start_time": "2022-05-02T12:53:24.961504",
     "status": "completed"
    },
    "tags": []
   },
   "source": [
    "### Regiona görə satış"
   ]
  },
  {
   "cell_type": "code",
   "execution_count": 34,
   "id": "798714c2",
   "metadata": {
    "execution": {
     "iopub.execute_input": "2022-05-02T12:53:25.229756Z",
     "iopub.status.busy": "2022-05-02T12:53:25.229460Z",
     "iopub.status.idle": "2022-05-02T12:53:25.239086Z",
     "shell.execute_reply": "2022-05-02T12:53:25.237967Z"
    },
    "papermill": {
     "duration": 0.102139,
     "end_time": "2022-05-02T12:53:25.241014",
     "exception": false,
     "start_time": "2022-05-02T12:53:25.138875",
     "status": "completed"
    },
    "tags": []
   },
   "outputs": [
    {
     "data": {
      "text/plain": [
       "<bound method Series.reset_index of Region\n",
       "West       710219.6845\n",
       "East       669518.7260\n",
       "Central    492646.9132\n",
       "South      389151.4590\n",
       "Name: Sales, dtype: float64>"
      ]
     },
     "execution_count": 34,
     "metadata": {},
     "output_type": "execute_result"
    }
   ],
   "source": [
    "data.groupby(\"Region\")[\"Sales\"].sum().sort_values(ascending=False).reset_index"
   ]
  },
  {
   "cell_type": "code",
   "execution_count": 35,
   "id": "4b9b8059",
   "metadata": {
    "execution": {
     "iopub.execute_input": "2022-05-02T12:53:25.422179Z",
     "iopub.status.busy": "2022-05-02T12:53:25.421904Z",
     "iopub.status.idle": "2022-05-02T12:53:25.629334Z",
     "shell.execute_reply": "2022-05-02T12:53:25.628837Z"
    },
    "papermill": {
     "duration": 0.299536,
     "end_time": "2022-05-02T12:53:25.631048",
     "exception": false,
     "start_time": "2022-05-02T12:53:25.331512",
     "status": "completed"
    },
    "tags": []
   },
   "outputs": [
    {
     "data": {
      "image/png": "[encoded data removed]",
      "text/plain": [
       "<Figure size 720x432 with 1 Axes>"
      ]
     },
     "metadata": {},
     "output_type": "display_data"
    }
   ],
   "source": [
    "datareg=data.groupby(\"Region\")[\"Sales\"].sum().sort_values(ascending=False)\n",
    "dataregion=datareg.reset_index()\n",
    "dataregion.set_index(\"Region\")\n",
    "plt.figure(figsize=(10,6))\n",
    "sns.barplot(x=\"Sales\",y=\"Region\",data=dataregion).set(title=\"Reegionlar Üzrə Satış\")\n",
    "plt.show()"
   ]
  },
  {
   "cell_type": "markdown",
   "id": "7264af21",
   "metadata": {
    "papermill": {
     "duration": 0.09096,
     "end_time": "2022-05-02T12:53:25.814440",
     "exception": false,
     "start_time": "2022-05-02T12:53:25.723480",
     "status": "completed"
    },
    "tags": []
   },
   "source": [
    "### İllərə görə satış tendensiyası"
   ]
  },
  {
   "cell_type": "code",
   "execution_count": 36,
   "id": "48cb607a",
   "metadata": {
    "execution": {
     "iopub.execute_input": "2022-05-02T12:53:26.007426Z",
     "iopub.status.busy": "2022-05-02T12:53:26.006604Z",
     "iopub.status.idle": "2022-05-02T12:53:26.033255Z",
     "shell.execute_reply": "2022-05-02T12:53:26.032315Z"
    },
    "papermill": {
     "duration": 0.12723,
     "end_time": "2022-05-02T12:53:26.035016",
     "exception": false,
     "start_time": "2022-05-02T12:53:25.907786",
     "status": "completed"
    },
    "tags": []
   },
   "outputs": [],
   "source": [
    "# İlk öncə Year və Month sütunlarını birləşdirək\n",
    "data[\"Year_Month\"]=data[\"Year\"].astype(str)+\"-\"+data[\"Month\"].astype(str)"
   ]
  },
  {
   "cell_type": "code",
   "execution_count": 37,
   "id": "16d925e4",
   "metadata": {
    "execution": {
     "iopub.execute_input": "2022-05-02T12:53:26.220373Z",
     "iopub.status.busy": "2022-05-02T12:53:26.219924Z",
     "iopub.status.idle": "2022-05-02T12:53:26.226345Z",
     "shell.execute_reply": "2022-05-02T12:53:26.225623Z"
    },
    "papermill": {
     "duration": 0.101705,
     "end_time": "2022-05-02T12:53:26.228560",
     "exception": false,
     "start_time": "2022-05-02T12:53:26.126855",
     "status": "completed"
    },
    "tags": []
   },
   "outputs": [
    {
     "data": {
      "text/plain": [
       "Row ID             int64\n",
       "Order ID          object\n",
       "Order Date        object\n",
       "Ship Date         object\n",
       "Ship Mode         object\n",
       "Customer ID       object\n",
       "Customer Name     object\n",
       "Segment           object\n",
       "Country           object\n",
       "City              object\n",
       "State             object\n",
       "Postal Code      float64\n",
       "Region            object\n",
       "Product ID        object\n",
       "Category          object\n",
       "Sub-Category      object\n",
       "Product Name      object\n",
       "Sales            float64\n",
       "Year               int64\n",
       "Month              int64\n",
       "Year_Month        object\n",
       "dtype: object"
      ]
     },
     "execution_count": 37,
     "metadata": {},
     "output_type": "execute_result"
    }
   ],
   "source": [
    "# Sütunlar birləşdi lakin formatları Date olaraq deyil object olaraq təyin edilir avtomatik\n",
    "data.dtypes"
   ]
  },
  {
   "cell_type": "code",
   "execution_count": 38,
   "id": "26823a26",
   "metadata": {
    "execution": {
     "iopub.execute_input": "2022-05-02T12:53:26.416944Z",
     "iopub.status.busy": "2022-05-02T12:53:26.416660Z",
     "iopub.status.idle": "2022-05-02T12:53:26.430951Z",
     "shell.execute_reply": "2022-05-02T12:53:26.430387Z"
    },
    "papermill": {
     "duration": 0.110839,
     "end_time": "2022-05-02T12:53:26.433016",
     "exception": false,
     "start_time": "2022-05-02T12:53:26.322177",
     "status": "completed"
    },
    "tags": []
   },
   "outputs": [],
   "source": [
    "### Year_month sütununu Date formatına çevirmək lazımdır\n",
    "data[\"Year_Month\"] = pd.to_datetime(data[\"Year_Month\"]).dt.date"
   ]
  },
  {
   "cell_type": "code",
   "execution_count": 39,
   "id": "8724ccbb",
   "metadata": {
    "execution": {
     "iopub.execute_input": "2022-05-02T12:53:26.620788Z",
     "iopub.status.busy": "2022-05-02T12:53:26.620314Z",
     "iopub.status.idle": "2022-05-02T12:53:26.633533Z",
     "shell.execute_reply": "2022-05-02T12:53:26.632279Z"
    },
    "papermill": {
     "duration": 0.109943,
     "end_time": "2022-05-02T12:53:26.635399",
     "exception": false,
     "start_time": "2022-05-02T12:53:26.525456",
     "status": "completed"
    },
    "tags": []
   },
   "outputs": [
    {
     "data": {
      "text/plain": [
       "Year_Month\n",
       "2015-01-01     14205.7070\n",
       "2015-02-01      4519.8920\n",
       "2015-03-01     55205.7970\n",
       "2015-04-01     27906.8550\n",
       "2015-05-01     23644.3030\n",
       "2015-06-01     34322.9356\n",
       "2015-07-01     33781.5430\n",
       "2015-08-01     27117.5365\n",
       "2015-09-01     81623.5268\n",
       "2015-10-01     31453.3930\n",
       "2015-11-01     77907.6607\n",
       "2015-12-01     68167.0585\n",
       "2016-01-01     18066.9576\n",
       "2016-02-01     11951.4110\n",
       "2016-03-01     32339.3184\n",
       "2016-04-01     34154.4685\n",
       "2016-05-01     29959.5305\n",
       "2016-06-01     23599.3740\n",
       "2016-07-01     28608.2590\n",
       "2016-08-01     36818.3422\n",
       "2016-09-01     63133.6060\n",
       "2016-10-01     31011.7375\n",
       "2016-11-01     75249.3995\n",
       "2016-12-01     74543.6012\n",
       "2017-01-01     18542.4910\n",
       "2017-02-01     22978.8150\n",
       "2017-03-01     51165.0590\n",
       "2017-04-01     38679.7670\n",
       "2017-05-01     56656.9080\n",
       "2017-06-01     39724.4860\n",
       "2017-07-01     38320.7830\n",
       "2017-08-01     30542.2003\n",
       "2017-09-01     69193.3909\n",
       "2017-10-01     59583.0330\n",
       "2017-11-01     79066.4958\n",
       "2017-12-01     95739.1210\n",
       "2018-01-01     43476.4740\n",
       "2018-02-01     19920.9974\n",
       "2018-03-01     58863.4128\n",
       "2018-04-01     35541.9101\n",
       "2018-05-01     43825.9822\n",
       "2018-06-01     48190.7277\n",
       "2018-07-01     44825.1040\n",
       "2018-08-01     62837.8480\n",
       "2018-09-01     86152.8880\n",
       "2018-10-01     77448.1312\n",
       "2018-11-01    117938.1550\n",
       "2018-12-01     83030.3888\n",
       "Name: Sales, dtype: float64"
      ]
     },
     "execution_count": 39,
     "metadata": {},
     "output_type": "execute_result"
    }
   ],
   "source": [
    "data.groupby(\"Year_Month\")[\"Sales\"].sum()"
   ]
  },
  {
   "cell_type": "code",
   "execution_count": 40,
   "id": "8cb05466",
   "metadata": {
    "execution": {
     "iopub.execute_input": "2022-05-02T12:53:26.824755Z",
     "iopub.status.busy": "2022-05-02T12:53:26.823778Z",
     "iopub.status.idle": "2022-05-02T12:53:27.228508Z",
     "shell.execute_reply": "2022-05-02T12:53:27.227700Z"
    },
    "papermill": {
     "duration": 0.502099,
     "end_time": "2022-05-02T12:53:27.230615",
     "exception": false,
     "start_time": "2022-05-02T12:53:26.728516",
     "status": "completed"
    },
    "tags": []
   },
   "outputs": [
    {
     "data": {
      "image/png": "[encoded data removed]",
      "text/plain": [
       "<Figure size 1440x360 with 1 Axes>"
      ]
     },
     "metadata": {},
     "output_type": "display_data"
    }
   ],
   "source": [
    "datatend=data.groupby(\"Year_Month\")[\"Sales\"].sum()\n",
    "plt.figure(figsize=(20,5))\n",
    "sns.lineplot(data=datatend).set(title=\"İllərə Görə Satış Tendensiyası\")\n",
    "plt.ylabel=(\"Sales\")"
   ]
  },
  {
   "cell_type": "markdown",
   "id": "3b47f8bc",
   "metadata": {
    "papermill": {
     "duration": 0.094673,
     "end_time": "2022-05-02T12:53:27.421885",
     "exception": false,
     "start_time": "2022-05-02T12:53:27.327212",
     "status": "completed"
    },
    "tags": []
   },
   "source": [
    "### Category üzrə illərə görə satış tendensiyası"
   ]
  },
  {
   "cell_type": "code",
   "execution_count": 41,
   "id": "ca9a5016",
   "metadata": {
    "execution": {
     "iopub.execute_input": "2022-05-02T12:53:27.612653Z",
     "iopub.status.busy": "2022-05-02T12:53:27.612389Z",
     "iopub.status.idle": "2022-05-02T12:53:27.618290Z",
     "shell.execute_reply": "2022-05-02T12:53:27.617135Z"
    },
    "papermill": {
     "duration": 0.1034,
     "end_time": "2022-05-02T12:53:27.620753",
     "exception": false,
     "start_time": "2022-05-02T12:53:27.517353",
     "status": "completed"
    },
    "tags": []
   },
   "outputs": [
    {
     "data": {
      "text/plain": [
       "array(['Furniture', 'Office Supplies', 'Technology'], dtype=object)"
      ]
     },
     "execution_count": 41,
     "metadata": {},
     "output_type": "execute_result"
    }
   ],
   "source": [
    "data[\"Category\"].unique()"
   ]
  },
  {
   "cell_type": "code",
   "execution_count": 42,
   "id": "d0cb5155",
   "metadata": {
    "execution": {
     "iopub.execute_input": "2022-05-02T12:53:27.813586Z",
     "iopub.status.busy": "2022-05-02T12:53:27.813109Z",
     "iopub.status.idle": "2022-05-02T12:53:28.238232Z",
     "shell.execute_reply": "2022-05-02T12:53:28.237364Z"
    },
    "papermill": {
     "duration": 0.525237,
     "end_time": "2022-05-02T12:53:28.240636",
     "exception": false,
     "start_time": "2022-05-02T12:53:27.715399",
     "status": "completed"
    },
    "tags": []
   },
   "outputs": [
    {
     "data": {
      "image/png": "[encoded data removed]",
      "text/plain": [
       "<Figure size 1440x360 with 1 Axes>"
      ]
     },
     "metadata": {},
     "output_type": "display_data"
    }
   ],
   "source": [
    "plt.figure(figsize=(20,5))\n",
    "sns.lineplot(data=data[data.Category==\"Furniture\"].groupby(\"Year_Month\")[\"Sales\"].sum(),label=\"Furniture\").set(title=\"Category Üzrə İllərə Görə Satış Tendensiyası\")\n",
    "sns.lineplot(data=data[data.Category==\"Office Supplies\"].groupby(\"Year_Month\")[\"Sales\"].sum(),label=\"Office Supplies\")\n",
    "sns.lineplot(data=data[data.Category==\"Technology\"].groupby(\"Year_Month\")[\"Sales\"].sum(),label=\"Technology\")\n",
    "plt.show()"
   ]
  },
  {
   "cell_type": "code",
   "execution_count": null,
   "id": "d7a84b0f",
   "metadata": {
    "papermill": {
     "duration": 0.100716,
     "end_time": "2022-05-02T12:53:28.440617",
     "exception": false,
     "start_time": "2022-05-02T12:53:28.339901",
     "status": "completed"
    },
    "tags": []
   },
   "outputs": [],
   "source": []
  }
 ],
 "metadata": {
  "kernelspec": {
   "display_name": "Python 3",
   "language": "python",
   "name": "python3"
  },
  "language_info": {
   "codemirror_mode": {
    "name": "ipython",
    "version": 3
   },
   "file_extension": ".py",
   "mimetype": "text/x-python",
   "name": "python",
   "nbconvert_exporter": "python",
   "pygments_lexer": "ipython3",
   "version": "3.7.12"
  },
  "papermill": {
   "default_parameters": {},
   "duration": 24.669807,
   "end_time": "2022-05-02T12:53:29.460965",
   "environment_variables": {},
   "exception": null,
   "input_path": "__notebook__.ipynb",
   "output_path": "__notebook__.ipynb",
   "parameters": {},
   "start_time": "2022-05-02T12:53:04.791158",
   "version": "2.3.4"
  }
 },
 "nbformat": 4,
 "nbformat_minor": 5
}
